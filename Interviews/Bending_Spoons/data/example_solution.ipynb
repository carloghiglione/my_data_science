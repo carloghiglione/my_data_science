{
 "cells": [
  {
   "cell_type": "markdown",
   "metadata": {},
   "source": [
    "# Machine Learning Challenge - Example Solution"
   ]
  },
  {
   "cell_type": "markdown",
   "metadata": {},
   "source": [
    "The goal of this notebook is to illustrate how to import the dataset for the machine learning challenge and to submit a solution."
   ]
  },
  {
   "cell_type": "code",
   "execution_count": 1,
   "metadata": {
    "pycharm": {
     "name": "#%%\n"
    }
   },
   "outputs": [],
   "source": [
    "import numpy as np\n",
    "import pandas as pd\n",
    "import matplotlib.pyplot as plt"
   ]
  },
  {
   "cell_type": "markdown",
   "metadata": {},
   "source": [
    "## Import dataset from CSV"
   ]
  },
  {
   "cell_type": "code",
   "execution_count": 2,
   "metadata": {
    "pycharm": {
     "name": "#%%\n"
    }
   },
   "outputs": [],
   "source": [
    "df_train = pd.read_csv(\"train.csv\")\n",
    "df_test = pd.read_csv(\"test.csv\")"
   ]
  },
  {
   "cell_type": "code",
   "execution_count": 3,
   "metadata": {},
   "outputs": [
    {
     "data": {
      "text/html": [
       "<div>\n",
       "<style scoped>\n",
       "    .dataframe tbody tr th:only-of-type {\n",
       "        vertical-align: middle;\n",
       "    }\n",
       "\n",
       "    .dataframe tbody tr th {\n",
       "        vertical-align: top;\n",
       "    }\n",
       "\n",
       "    .dataframe thead th {\n",
       "        text-align: right;\n",
       "    }\n",
       "</style>\n",
       "<table border=\"1\" class=\"dataframe\">\n",
       "  <thead>\n",
       "    <tr style=\"text-align: right;\">\n",
       "      <th></th>\n",
       "      <th>uid</th>\n",
       "      <th>install_timestamp</th>\n",
       "      <th>free_trial_timestamp</th>\n",
       "      <th>country</th>\n",
       "      <th>language</th>\n",
       "      <th>device_type</th>\n",
       "      <th>os_version</th>\n",
       "      <th>attribution_network</th>\n",
       "      <th>product_price_tier</th>\n",
       "      <th>product_periodicity</th>\n",
       "      <th>product_free_trial_length</th>\n",
       "      <th>onboarding_birth_year</th>\n",
       "      <th>onboarding_gender</th>\n",
       "      <th>net_purchases_15d</th>\n",
       "      <th>net_purchases_1y</th>\n",
       "    </tr>\n",
       "  </thead>\n",
       "  <tbody>\n",
       "    <tr>\n",
       "      <th>0</th>\n",
       "      <td>wBmGYN3Z+l3OBvdnzv/fdw==</td>\n",
       "      <td>2019-06-07 00:01:44+00:00</td>\n",
       "      <td>2019-06-07 03:12:33+00:00</td>\n",
       "      <td>US</td>\n",
       "      <td>en</td>\n",
       "      <td>iPhone 6</td>\n",
       "      <td>12.2</td>\n",
       "      <td>Snapchat Installs</td>\n",
       "      <td>20</td>\n",
       "      <td>30</td>\n",
       "      <td>7</td>\n",
       "      <td>2005.0</td>\n",
       "      <td>M</td>\n",
       "      <td>0.00</td>\n",
       "      <td>0.000000</td>\n",
       "    </tr>\n",
       "    <tr>\n",
       "      <th>1</th>\n",
       "      <td>s8j5KRaEXICNrKRsaBB8FQ==</td>\n",
       "      <td>2019-06-07 00:05:10+00:00</td>\n",
       "      <td>2019-06-08 07:39:48+00:00</td>\n",
       "      <td>US</td>\n",
       "      <td>en</td>\n",
       "      <td>iPhone X</td>\n",
       "      <td>12.3.1</td>\n",
       "      <td>Organic</td>\n",
       "      <td>6</td>\n",
       "      <td>7</td>\n",
       "      <td>7</td>\n",
       "      <td>2000.0</td>\n",
       "      <td>M</td>\n",
       "      <td>4.20</td>\n",
       "      <td>63.000000</td>\n",
       "    </tr>\n",
       "    <tr>\n",
       "      <th>2</th>\n",
       "      <td>YpCrTmFIkyrv/8Xv2hNJcw==</td>\n",
       "      <td>2019-06-07 00:05:53+00:00</td>\n",
       "      <td>2019-06-07 00:07:01+00:00</td>\n",
       "      <td>GB</td>\n",
       "      <td>en</td>\n",
       "      <td>iPhone 8</td>\n",
       "      <td>12.3.1</td>\n",
       "      <td>Snapchat Installs</td>\n",
       "      <td>6</td>\n",
       "      <td>7</td>\n",
       "      <td>7</td>\n",
       "      <td>1994.0</td>\n",
       "      <td>M</td>\n",
       "      <td>0.00</td>\n",
       "      <td>0.000000</td>\n",
       "    </tr>\n",
       "    <tr>\n",
       "      <th>3</th>\n",
       "      <td>U8WfGbQJ5rtEuMARYiLkkA==</td>\n",
       "      <td>2019-06-07 00:08:51+00:00</td>\n",
       "      <td>2019-06-07 00:10:59+00:00</td>\n",
       "      <td>US</td>\n",
       "      <td>en</td>\n",
       "      <td>iPhone 6S Plus</td>\n",
       "      <td>12.3.1</td>\n",
       "      <td>Organic</td>\n",
       "      <td>6</td>\n",
       "      <td>7</td>\n",
       "      <td>7</td>\n",
       "      <td>1992.0</td>\n",
       "      <td>F</td>\n",
       "      <td>4.20</td>\n",
       "      <td>4.900000</td>\n",
       "    </tr>\n",
       "    <tr>\n",
       "      <th>4</th>\n",
       "      <td>996ECqYkUl6anviM65Npxg==</td>\n",
       "      <td>2019-06-07 00:12:01+00:00</td>\n",
       "      <td>2019-06-07 00:12:41+00:00</td>\n",
       "      <td>GB</td>\n",
       "      <td>en</td>\n",
       "      <td>iPhone 8</td>\n",
       "      <td>12.2</td>\n",
       "      <td>Organic</td>\n",
       "      <td>6</td>\n",
       "      <td>7</td>\n",
       "      <td>7</td>\n",
       "      <td>2000.0</td>\n",
       "      <td>M</td>\n",
       "      <td>4.13</td>\n",
       "      <td>98.900002</td>\n",
       "    </tr>\n",
       "  </tbody>\n",
       "</table>\n",
       "</div>"
      ],
      "text/plain": [
       "                        uid          install_timestamp  \\\n",
       "0  wBmGYN3Z+l3OBvdnzv/fdw==  2019-06-07 00:01:44+00:00   \n",
       "1  s8j5KRaEXICNrKRsaBB8FQ==  2019-06-07 00:05:10+00:00   \n",
       "2  YpCrTmFIkyrv/8Xv2hNJcw==  2019-06-07 00:05:53+00:00   \n",
       "3  U8WfGbQJ5rtEuMARYiLkkA==  2019-06-07 00:08:51+00:00   \n",
       "4  996ECqYkUl6anviM65Npxg==  2019-06-07 00:12:01+00:00   \n",
       "\n",
       "        free_trial_timestamp country language     device_type os_version  \\\n",
       "0  2019-06-07 03:12:33+00:00      US       en        iPhone 6       12.2   \n",
       "1  2019-06-08 07:39:48+00:00      US       en        iPhone X     12.3.1   \n",
       "2  2019-06-07 00:07:01+00:00      GB       en        iPhone 8     12.3.1   \n",
       "3  2019-06-07 00:10:59+00:00      US       en  iPhone 6S Plus     12.3.1   \n",
       "4  2019-06-07 00:12:41+00:00      GB       en        iPhone 8       12.2   \n",
       "\n",
       "  attribution_network  product_price_tier  product_periodicity  \\\n",
       "0   Snapchat Installs                  20                   30   \n",
       "1             Organic                   6                    7   \n",
       "2   Snapchat Installs                   6                    7   \n",
       "3             Organic                   6                    7   \n",
       "4             Organic                   6                    7   \n",
       "\n",
       "   product_free_trial_length  onboarding_birth_year onboarding_gender  \\\n",
       "0                          7                 2005.0                 M   \n",
       "1                          7                 2000.0                 M   \n",
       "2                          7                 1994.0                 M   \n",
       "3                          7                 1992.0                 F   \n",
       "4                          7                 2000.0                 M   \n",
       "\n",
       "   net_purchases_15d  net_purchases_1y  \n",
       "0               0.00          0.000000  \n",
       "1               4.20         63.000000  \n",
       "2               0.00          0.000000  \n",
       "3               4.20          4.900000  \n",
       "4               4.13         98.900002  "
      ]
     },
     "execution_count": 3,
     "metadata": {},
     "output_type": "execute_result"
    }
   ],
   "source": [
    "df_train.head()"
   ]
  },
  {
   "cell_type": "code",
   "execution_count": 4,
   "metadata": {},
   "outputs": [
    {
     "data": {
      "text/html": [
       "<div>\n",
       "<style scoped>\n",
       "    .dataframe tbody tr th:only-of-type {\n",
       "        vertical-align: middle;\n",
       "    }\n",
       "\n",
       "    .dataframe tbody tr th {\n",
       "        vertical-align: top;\n",
       "    }\n",
       "\n",
       "    .dataframe thead th {\n",
       "        text-align: right;\n",
       "    }\n",
       "</style>\n",
       "<table border=\"1\" class=\"dataframe\">\n",
       "  <thead>\n",
       "    <tr style=\"text-align: right;\">\n",
       "      <th></th>\n",
       "      <th>uid</th>\n",
       "      <th>install_timestamp</th>\n",
       "      <th>free_trial_timestamp</th>\n",
       "      <th>country</th>\n",
       "      <th>language</th>\n",
       "      <th>device_type</th>\n",
       "      <th>os_version</th>\n",
       "      <th>attribution_network</th>\n",
       "      <th>product_price_tier</th>\n",
       "      <th>product_periodicity</th>\n",
       "      <th>product_free_trial_length</th>\n",
       "      <th>onboarding_birth_year</th>\n",
       "      <th>onboarding_gender</th>\n",
       "      <th>net_purchases_15d</th>\n",
       "    </tr>\n",
       "  </thead>\n",
       "  <tbody>\n",
       "    <tr>\n",
       "      <th>0</th>\n",
       "      <td>oZM0Urdhm8tR1ZYKnyGbYw==</td>\n",
       "      <td>2019-06-07 00:11:25+00:00</td>\n",
       "      <td>2019-06-07 00:12:35+00:00</td>\n",
       "      <td>GB</td>\n",
       "      <td>en</td>\n",
       "      <td>iPhone 7</td>\n",
       "      <td>12.2</td>\n",
       "      <td>Organic</td>\n",
       "      <td>6</td>\n",
       "      <td>7</td>\n",
       "      <td>7</td>\n",
       "      <td>1989.0</td>\n",
       "      <td>M</td>\n",
       "      <td>0.0</td>\n",
       "    </tr>\n",
       "    <tr>\n",
       "      <th>1</th>\n",
       "      <td>0VzRx4ggiIhf66/Rx8b16Q==</td>\n",
       "      <td>2019-06-07 00:18:03+00:00</td>\n",
       "      <td>2019-06-07 00:22:42+00:00</td>\n",
       "      <td>FR</td>\n",
       "      <td>fr</td>\n",
       "      <td>iPhone 8 Plus</td>\n",
       "      <td>12.3.1</td>\n",
       "      <td>Snapchat Installs</td>\n",
       "      <td>20</td>\n",
       "      <td>30</td>\n",
       "      <td>7</td>\n",
       "      <td>1999.0</td>\n",
       "      <td>M</td>\n",
       "      <td>0.0</td>\n",
       "    </tr>\n",
       "    <tr>\n",
       "      <th>2</th>\n",
       "      <td>vtf64fAiTxwDmC2hn4aFwg==</td>\n",
       "      <td>2019-06-07 00:22:46+00:00</td>\n",
       "      <td>2019-06-07 00:23:37+00:00</td>\n",
       "      <td>US</td>\n",
       "      <td>en</td>\n",
       "      <td>iPhone XS Max</td>\n",
       "      <td>12.2</td>\n",
       "      <td>Snapchat Installs</td>\n",
       "      <td>20</td>\n",
       "      <td>30</td>\n",
       "      <td>7</td>\n",
       "      <td>1995.0</td>\n",
       "      <td>M</td>\n",
       "      <td>0.0</td>\n",
       "    </tr>\n",
       "    <tr>\n",
       "      <th>3</th>\n",
       "      <td>imIeOU/L+Pp9iEHnpBGxOQ==</td>\n",
       "      <td>2019-06-07 00:31:42+00:00</td>\n",
       "      <td>2019-06-17 01:33:42+00:00</td>\n",
       "      <td>US</td>\n",
       "      <td>en</td>\n",
       "      <td>iPhone 5S</td>\n",
       "      <td>12.1.4</td>\n",
       "      <td>Organic</td>\n",
       "      <td>6</td>\n",
       "      <td>7</td>\n",
       "      <td>7</td>\n",
       "      <td>2000.0</td>\n",
       "      <td>M</td>\n",
       "      <td>0.0</td>\n",
       "    </tr>\n",
       "    <tr>\n",
       "      <th>4</th>\n",
       "      <td>mFBL8ysoHjQyecIbpbWrzg==</td>\n",
       "      <td>2019-06-07 00:39:12+00:00</td>\n",
       "      <td>2019-06-07 00:39:38+00:00</td>\n",
       "      <td>US</td>\n",
       "      <td>en</td>\n",
       "      <td>iPhone X</td>\n",
       "      <td>12.3.1</td>\n",
       "      <td>Snapchat Installs</td>\n",
       "      <td>6</td>\n",
       "      <td>7</td>\n",
       "      <td>7</td>\n",
       "      <td>2004.0</td>\n",
       "      <td>?</td>\n",
       "      <td>0.0</td>\n",
       "    </tr>\n",
       "  </tbody>\n",
       "</table>\n",
       "</div>"
      ],
      "text/plain": [
       "                        uid          install_timestamp  \\\n",
       "0  oZM0Urdhm8tR1ZYKnyGbYw==  2019-06-07 00:11:25+00:00   \n",
       "1  0VzRx4ggiIhf66/Rx8b16Q==  2019-06-07 00:18:03+00:00   \n",
       "2  vtf64fAiTxwDmC2hn4aFwg==  2019-06-07 00:22:46+00:00   \n",
       "3  imIeOU/L+Pp9iEHnpBGxOQ==  2019-06-07 00:31:42+00:00   \n",
       "4  mFBL8ysoHjQyecIbpbWrzg==  2019-06-07 00:39:12+00:00   \n",
       "\n",
       "        free_trial_timestamp country language    device_type os_version  \\\n",
       "0  2019-06-07 00:12:35+00:00      GB       en       iPhone 7       12.2   \n",
       "1  2019-06-07 00:22:42+00:00      FR       fr  iPhone 8 Plus     12.3.1   \n",
       "2  2019-06-07 00:23:37+00:00      US       en  iPhone XS Max       12.2   \n",
       "3  2019-06-17 01:33:42+00:00      US       en      iPhone 5S     12.1.4   \n",
       "4  2019-06-07 00:39:38+00:00      US       en       iPhone X     12.3.1   \n",
       "\n",
       "  attribution_network  product_price_tier  product_periodicity  \\\n",
       "0             Organic                   6                    7   \n",
       "1   Snapchat Installs                  20                   30   \n",
       "2   Snapchat Installs                  20                   30   \n",
       "3             Organic                   6                    7   \n",
       "4   Snapchat Installs                   6                    7   \n",
       "\n",
       "   product_free_trial_length  onboarding_birth_year onboarding_gender  \\\n",
       "0                          7                 1989.0                 M   \n",
       "1                          7                 1999.0                 M   \n",
       "2                          7                 1995.0                 M   \n",
       "3                          7                 2000.0                 M   \n",
       "4                          7                 2004.0                 ?   \n",
       "\n",
       "   net_purchases_15d  \n",
       "0                0.0  \n",
       "1                0.0  \n",
       "2                0.0  \n",
       "3                0.0  \n",
       "4                0.0  "
      ]
     },
     "execution_count": 4,
     "metadata": {},
     "output_type": "execute_result"
    }
   ],
   "source": [
    "df_test.head()"
   ]
  },
  {
   "cell_type": "markdown",
   "metadata": {},
   "source": [
    "## Linear Model"
   ]
  },
  {
   "cell_type": "markdown",
   "metadata": {},
   "source": [
    "Let's import some useful functions"
   ]
  },
  {
   "cell_type": "code",
   "execution_count": 5,
   "metadata": {
    "pycharm": {
     "name": "#%%\n"
    }
   },
   "outputs": [],
   "source": [
    "from sklearn.linear_model import LinearRegression\n",
    "from sklearn.metrics import mean_squared_error"
   ]
  },
  {
   "cell_type": "markdown",
   "metadata": {},
   "source": [
    "Let's define the cost function we want to minimize"
   ]
  },
  {
   "cell_type": "code",
   "execution_count": 6,
   "metadata": {},
   "outputs": [],
   "source": [
    "def rmse(y_true, y_pred):\n",
    "    return np.sqrt(mean_squared_error(y_true, y_pred))"
   ]
  },
  {
   "cell_type": "markdown",
   "metadata": {},
   "source": [
    "Let's build a simple linear model, using the purchases made in the first 15 days since the free trial as a predictor"
   ]
  },
  {
   "cell_type": "code",
   "execution_count": 7,
   "metadata": {
    "pycharm": {
     "name": "#%%\n"
    }
   },
   "outputs": [],
   "source": [
    "X_train = df_train[[\"net_purchases_15d\"]]\n",
    "X_test = df_test[[\"net_purchases_15d\"]]\n",
    "\n",
    "y_train = df_train[\"net_purchases_1y\"]\n",
    "# y_test is unknown to the candidate; it will be used to evaluate the submission"
   ]
  },
  {
   "cell_type": "code",
   "execution_count": 8,
   "metadata": {
    "pycharm": {
     "name": "#%%\n"
    }
   },
   "outputs": [],
   "source": [
    "model = LinearRegression()"
   ]
  },
  {
   "cell_type": "code",
   "execution_count": 9,
   "metadata": {
    "pycharm": {
     "name": "#%%\n"
    }
   },
   "outputs": [],
   "source": [
    "model.fit(X_train, y_train)\n",
    "y_pred_train = model.predict(X_train)"
   ]
  },
  {
   "cell_type": "markdown",
   "metadata": {},
   "source": [
    "Let's see the RMSE of this model."
   ]
  },
  {
   "cell_type": "code",
   "execution_count": 10,
   "metadata": {},
   "outputs": [
    {
     "name": "stdout",
     "output_type": "stream",
     "text": [
      "Linear Regression RMSE: 13.620715866632395\n"
     ]
    }
   ],
   "source": [
    "rmse_lin = rmse(y_train, y_pred_train)\n",
    "\n",
    "print(f\"Linear Regression RMSE: {rmse_lin}\")"
   ]
  },
  {
   "cell_type": "markdown",
   "metadata": {},
   "source": [
    "## Export CSV for submission"
   ]
  },
  {
   "cell_type": "markdown",
   "metadata": {},
   "source": [
    "Now let's make an example submission with our linear model."
   ]
  },
  {
   "cell_type": "code",
   "execution_count": 11,
   "metadata": {},
   "outputs": [],
   "source": [
    "y_pred_test = model.predict(X_test)"
   ]
  },
  {
   "cell_type": "code",
   "execution_count": 12,
   "metadata": {
    "pycharm": {
     "name": "#%%\n"
    }
   },
   "outputs": [],
   "source": [
    "df_candidate = pd.DataFrame({\"y_pred_test\": y_pred_test})\n",
    "df_candidate.to_csv(\"example_submission.csv\", index=False)"
   ]
  },
  {
   "cell_type": "markdown",
   "metadata": {},
   "source": [
    "Here's a sample of how the CSV for submission will look like:"
   ]
  },
  {
   "cell_type": "code",
   "execution_count": 13,
   "metadata": {},
   "outputs": [
    {
     "data": {
      "text/html": [
       "<div>\n",
       "<style scoped>\n",
       "    .dataframe tbody tr th:only-of-type {\n",
       "        vertical-align: middle;\n",
       "    }\n",
       "\n",
       "    .dataframe tbody tr th {\n",
       "        vertical-align: top;\n",
       "    }\n",
       "\n",
       "    .dataframe thead th {\n",
       "        text-align: right;\n",
       "    }\n",
       "</style>\n",
       "<table border=\"1\" class=\"dataframe\">\n",
       "  <thead>\n",
       "    <tr style=\"text-align: right;\">\n",
       "      <th></th>\n",
       "      <th>y_pred_test</th>\n",
       "    </tr>\n",
       "  </thead>\n",
       "  <tbody>\n",
       "    <tr>\n",
       "      <th>2181</th>\n",
       "      <td>17.302670</td>\n",
       "    </tr>\n",
       "    <tr>\n",
       "      <th>3137</th>\n",
       "      <td>2.323053</td>\n",
       "    </tr>\n",
       "    <tr>\n",
       "      <th>670</th>\n",
       "      <td>2.323053</td>\n",
       "    </tr>\n",
       "    <tr>\n",
       "      <th>1403</th>\n",
       "      <td>2.323053</td>\n",
       "    </tr>\n",
       "    <tr>\n",
       "      <th>487</th>\n",
       "      <td>17.020445</td>\n",
       "    </tr>\n",
       "  </tbody>\n",
       "</table>\n",
       "</div>"
      ],
      "text/plain": [
       "      y_pred_test\n",
       "2181    17.302670\n",
       "3137     2.323053\n",
       "670      2.323053\n",
       "1403     2.323053\n",
       "487     17.020445"
      ]
     },
     "execution_count": 13,
     "metadata": {},
     "output_type": "execute_result"
    }
   ],
   "source": [
    "df_candidate.sample(5)"
   ]
  },
  {
   "cell_type": "markdown",
   "metadata": {},
   "source": [
    "We will compare your solution, `y_pred_test`, with the ground truth target, `y_test`. Your goal is to make use of the available data to minimize the RMSE on the test set, namely `rmse(y_test, y_pred_test)`.\n",
    "\n",
    "NB: you will be asked to explain how you approached the problem and to detail the high-level steps that brought you to the solution you submitted."
   ]
  }
 ],
 "metadata": {
  "kernelspec": {
   "display_name": "Python 3 (ipykernel)",
   "language": "python",
   "name": "python3"
  },
  "language_info": {
   "codemirror_mode": {
    "name": "ipython",
    "version": 3
   },
   "file_extension": ".py",
   "mimetype": "text/x-python",
   "name": "python",
   "nbconvert_exporter": "python",
   "pygments_lexer": "ipython3",
   "version": "3.8.13"
  }
 },
 "nbformat": 4,
 "nbformat_minor": 4
}
